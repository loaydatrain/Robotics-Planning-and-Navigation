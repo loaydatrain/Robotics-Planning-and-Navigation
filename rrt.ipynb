{
 "cells": [
  {
   "cell_type": "code",
   "execution_count": 1,
   "metadata": {
    "id": "KbFcl-amVy9q"
   },
   "outputs": [],
   "source": [
    "import numpy as np\n",
    "import cv2\n",
    "# from google.colab.patches import cv2_imshow\n",
    "from scipy.spatial import distance\n",
    "import matplotlib.pyplot as plt\n",
    "ep=10\n",
    "import math\n",
    "import itertools"
   ]
  },
  {
   "cell_type": "code",
   "execution_count": 2,
   "metadata": {
    "id": "iMQRBwHAVy9x"
   },
   "outputs": [],
   "source": [
    "def rrt_holon(img, t1, t2):\n",
    "    ep=10\n",
    "    for i in range(100):\n",
    "        available = np.array(np.where((img == [255, 255, 255]).all(axis = 2))).T\n",
    "        qRand = available[np.random.randint(0,len(available))]\n",
    "#         qRand = [100,20]\n",
    "#         t1t = t1.copy()\n",
    "#         t1t -= qRand\n",
    "#         t1t = t1t ** 2\n",
    "#         tsum = []\n",
    "#         for x,y in t1t:\n",
    "#             tsum.append(x + y)\n",
    "#         tsum = np.asarray(tsum)\n",
    "\n",
    "\n",
    "        calc = distance.cdist(t1,[qRand])\n",
    "        qNear = t1[np.argmin(calc)]\n",
    "        u = qRand - qNear\n",
    "        if np.linalg.norm(u) == 0: continue\n",
    "        v = u / np.linalg.norm(u)\n",
    "        qNew = qNear + ep*v\n",
    "        qNew = np.asarray(qNew,dtype=np.int64)\n",
    "        imgcpy = img.copy()\n",
    "        prevobs = np.sum(np.all(imgcpy == (0,0,0), axis=2))\n",
    "        cv2.line(imgcpy,(int(qNear[0]),int(qNear[1])),(int(qNew[0]),int(qNew[1])),(0,0,255))\n",
    "#         newline = np.array(np.where((imgcpy == [0, 0, 255]).all(axis = 2))).T\n",
    "#         flg = 1\n",
    "        newobs = np.sum(np.all(imgcpy == (0,0,0), axis=2))\n",
    "        if prevobs == newobs:\n",
    "            cv2.line(img,(int(qNear[0]),int(qNear[1])),(int(qNew[0]),int(qNew[1])),(0,0,255))\n",
    "            t1 = np.vstack([t1,qNew])\n",
    "#             available = np.array(np.where((img == [255, 255, 255]).all(axis = 2))).T\n",
    "        plt.imshow(img.astype(np.uint8))\n",
    "        if np.min(distance.cdist(t1,t2)) < 10 : \n",
    "            break\n",
    "        "
   ]
  },
  {
   "cell_type": "code",
   "execution_count": 3,
   "metadata": {
    "colab": {
     "base_uri": "https://localhost:8080/",
     "height": 240
    },
    "id": "98Wx5uDJVy9y",
    "outputId": "fedd0ef5-c0ec-475c-84e4-02984938ae9c",
    "scrolled": true
   },
   "outputs": [
    {
     "data": {
      "image/png": "[encoded data removed]",
      "text/plain": [
       "<Figure size 432x288 with 1 Axes>"
      ]
     },
     "metadata": {},
     "output_type": "display_data"
    }
   ],
   "source": [
    "t1 = [[20,20]]\n",
    "t2 = [[600,150]]\n",
    "t1 = np.asarray(t1)\n",
    "t2 = np.asarray(t2)\n",
    "img = 255*np.ones((200,200,3))\n",
    "img1 = cv2.imread(\"untitled.png\")\n",
    "cv2.line(img,(25,15),(25,175),(0,0,0),2)\n",
    "plt.imshow(img1)\n",
    "# available = np.array(np.where((img == [255, 255, 255]).all(axis = 2))).T\n",
    "rrt_holon(img1,t1,t2)"
   ]
  },
  {
   "cell_type": "code",
   "execution_count": 7,
   "metadata": {
    "id": "WNJxrg7hVy9y"
   },
   "outputs": [],
   "source": [
    "def rrt_nonholon(img, t1, t2):\n",
    "    theta0=0\n",
    "    del_t=1\n",
    "    for i in range(500):\n",
    "        available = np.array(np.where((img == [255, 255, 255]).all(axis = 2))).T\n",
    "        qRand = available[np.random.randint(0,len(available))]\n",
    "        calc = distance.cdist(t1,[qRand])\n",
    "        qNear = t1[np.argmin(calc)]\n",
    "\n",
    "        v, w = [-5, 5], [-math.pi/15, 0, math.pi/15]\n",
    "        controls = list(itertools.product(v, w))\n",
    "        \n",
    "        max_dist = np.inf\n",
    "        x0=qNear[0]\n",
    "        y0=qNear[1]\n",
    "        xfinal = 0\n",
    "        yfinal = 0\n",
    "        thetafinal = 0\n",
    "        xgoal=qRand[0]\n",
    "        ygoal=qRand[1]\n",
    "        qNew=[0,0]\n",
    "\n",
    "        for i in controls:\n",
    "            vtemp, wtemp = i[0], i[1]\n",
    "            xnew = x0 + vtemp*del_t*math.cos(theta0 + wtemp*del_t)\n",
    "            ynew = y0 + vtemp*del_t*math.sin(theta0 + wtemp*del_t)\n",
    "             \n",
    "            dist_from_goal = np.linalg.norm(np.array([xgoal,ygoal])-np.array([xnew,ynew]))\n",
    "            \n",
    "            if dist_from_goal < max_dist:\n",
    "#                 print(dist_from_goal)\n",
    "                qNew[0] = xnew\n",
    "                qNew[1] = ynew\n",
    "                thetafinal = (theta0 + wtemp*del_t)\n",
    "                max_dist = dist_from_goal\n",
    "\n",
    "        theta0=thetafinal\n",
    "\n",
    "        #u = qRand - qNear\n",
    "        #if np.linalg.norm(u) == 0: continue\n",
    "        #v = u / np.linalg.norm(u)\n",
    "        #qNew = qNear + ep*v\n",
    "        qNew = np.asarray(qNew,dtype=np.int64)\n",
    "\n",
    "        imgcpy = img.copy()\n",
    "        prevobs = np.sum(np.all(imgcpy == (0,0,0), axis=2))\n",
    "        cv2.line(imgcpy,(int(qNear[0]),int(qNear[1])),(int(qNew[0]),int(qNew[1])),(0,0,255))\n",
    "\n",
    "        newobs = np.sum(np.all(imgcpy == (0,0,0), axis=2))\n",
    "        if prevobs == newobs:\n",
    "            cv2.line(img,(int(qNear[0]),int(qNear[1])),(int(qNew[0]),int(qNew[1])),(0,0,255))\n",
    "            t1 = np.vstack([t1,qNew])\n",
    "\n",
    "        plt.imshow(img.astype(np.uint8))\n",
    "        if np.min(distance.cdist(t1,t2)) < 10 : \n",
    "            break"
   ]
  },
  {
   "cell_type": "code",
   "execution_count": 8,
   "metadata": {
    "colab": {
     "base_uri": "https://localhost:8080/",
     "height": 240
    },
    "id": "cuFRQwCzWnt8",
    "outputId": "bc9ff95d-e455-49a1-c798-3493dae5e736"
   },
   "outputs": [
    {
     "data": {
      "image/png": "[encoded data removed]",
      "text/plain": [
       "<Figure size 432x288 with 1 Axes>"
      ]
     },
     "metadata": {},
     "output_type": "display_data"
    }
   ],
   "source": [
    "t1 = [[20,20]]\n",
    "t2 = [[600,150]]\n",
    "t1 = np.asarray(t1)\n",
    "t2 = np.asarray(t2)\n",
    "img = 255*np.ones((200,200,3))\n",
    "img1 = cv2.imread(\"untitled.png\")\n",
    "cv2.line(img,(25,15),(25,175),(0,0,0),2)\n",
    "# plt.imshow(img1)\n",
    "# available = np.array(np.where((img == [255, 255, 255]).all(axis = 2))).T\n",
    "rrt_nonholon(img1,t1,t2)"
   ]
  }
 ],
 "metadata": {
  "colab": {
   "collapsed_sections": [],
   "name": "Untitled (1).ipynb",
   "provenance": []
  },
  "kernelspec": {
   "display_name": "Python 3",
   "language": "python",
   "name": "python3"
  },
  "language_info": {
   "codemirror_mode": {
    "name": "ipython",
    "version": 3
   },
   "file_extension": ".py",
   "mimetype": "text/x-python",
   "name": "python",
   "nbconvert_exporter": "python",
   "pygments_lexer": "ipython3",
   "version": "3.6.9"
  }
 },
 "nbformat": 4,
 "nbformat_minor": 1
}
