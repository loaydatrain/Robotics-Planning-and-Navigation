{
 "cells": [
  {
   "cell_type": "code",
   "execution_count": 1,
   "metadata": {
    "id": "KbFcl-amVy9q"
   },
   "outputs": [],
   "source": [
    "import numpy as np\n",
    "import cv2\n",
    "# from google.colab.patches import cv2_imshow\n",
    "from scipy.spatial import distance\n",
    "import matplotlib.pyplot as plt\n",
    "ep=10\n",
    "import math\n",
    "import itertools"
   ]
  },
  {
   "cell_type": "code",
   "execution_count": 3,
   "metadata": {
    "colab": {
     "base_uri": "https://localhost:8080/",
     "height": 257
    },
    "id": "cp8ja8n5zqjH",
    "outputId": "bd46c0c4-586d-44e2-91c7-e8b8716abbdc"
   },
   "outputs": [
    {
     "data": {
      "text/plain": [
       "<matplotlib.image.AxesImage at 0x7f3764fdcc18>"
      ]
     },
     "execution_count": 3,
     "metadata": {},
     "output_type": "execute_result"
    },
    {
     "data": {
      "image/png": "[encoded data removed]",
      "text/plain": [
       "<Figure size 432x288 with 1 Axes>"
      ]
     },
     "metadata": {},
     "output_type": "display_data"
    }
   ],
   "source": [
    "#assuming the robot is circular in shape\n",
    "def configspace(img,L):\n",
    "    circle=np.zeros([2*L,2*L,3],dtype=np.uint8)\n",
    "    circle=cv2.circle(circle,(L,L), L, (255,255,255), -1)\n",
    "    struct_element=cv2.cvtColor(circle, cv2.COLOR_BGR2GRAY)\n",
    "    struct_element[struct_element>0]=1\n",
    "    # plt.imshow(struct_element.astype(np.uint8))\n",
    "    # print(struct_element)\n",
    "    closing = cv2.morphologyEx(img, cv2.MORPH_OPEN, struct_element)\n",
    "    return closing\n",
    "\n",
    "img=cv2.imread(\"untitled.png\")\n",
    "# plt.imshow(img.astype(np.uint8))\n",
    "closed=configspace(img, 10)\n",
    "plt.imshow(closed.astype(np.uint8))\n"
   ]
  },
  {
   "cell_type": "code",
   "execution_count": 4,
   "metadata": {
    "id": "iMQRBwHAVy9x"
   },
   "outputs": [],
   "source": [
    "def rrt_holon(img, t1, t2):\n",
    "    ep=10\n",
    "#     config=configspace(img,20) #updated obstacles\n",
    "    for i in range(100):\n",
    "        available = np.array(np.where((img == [255, 255, 255]).all(axis = 2))).T\n",
    "        qRand = available[np.random.randint(0,len(available))]\n",
    "#         qRand = [100,20]\n",
    "#         t1t = t1.copy()\n",
    "#         t1t -= qRand\n",
    "#         t1t = t1t ** 2\n",
    "#         tsum = []\n",
    "#         for x,y in t1t:\n",
    "#             tsum.append(x + y)\n",
    "#         tsum = np.asarray(tsum)\n",
    "\n",
    "\n",
    "        calc = distance.cdist(t1,[qRand])\n",
    "        qNear = t1[np.argmin(calc)]\n",
    "        u = qRand - qNear\n",
    "        if np.linalg.norm(u) == 0: continue\n",
    "        v = u / np.linalg.norm(u)\n",
    "        qNew = qNear + ep*v\n",
    "        qNew = np.asarray(qNew,dtype=np.int64) \n",
    "        imgcpy = img.copy()\n",
    "        prevobs = np.sum(np.all(config == (0,0,0), axis=2))\n",
    "        cv2.line(config,(int(qNear[0]),int(qNear[1])),(int(qNew[0]),int(qNew[1])),(0,0,255))\n",
    "#         newline = np.array(np.where((imgcpy == [0, 0, 255]).all(axis = 2))).T\n",
    "#         flg = 1\n",
    "        newobs = np.sum(np.all(config == (0,0,0), axis=2))\n",
    "        if prevobs == newobs:\n",
    "            cv2.line(img,(int(qNear[0]),int(qNear[1])),(int(qNew[0]),int(qNew[1])),(0,0,255))\n",
    "            t1 = np.vstack([t1,qNew])\n",
    "#             available = np.array(np.where((img == [255, 255, 255]).all(axis = 2))).T\n",
    "        plt.imshow(img.astype(np.uint8))\n",
    "        if np.min(distance.cdist(t1,t2)) < 10 : \n",
    "            break\n",
    "        "
   ]
  },
  {
   "cell_type": "code",
   "execution_count": 5,
   "metadata": {
    "colab": {
     "base_uri": "https://localhost:8080/",
     "height": 240
    },
    "id": "98Wx5uDJVy9y",
    "outputId": "0fc81f1b-bff7-41ae-b129-53f0a4d9ff6b",
    "scrolled": true
   },
   "outputs": [
    {
     "ename": "error",
     "evalue": "OpenCV(4.2.0) /io/opencv/modules/core/src/matrix.cpp:757: error: (-215:Assertion failed) dims <= 2 && step[0] > 0 in function 'locateROI'\n",
     "output_type": "error",
     "traceback": [
      "\u001b[0;31m---------------------------------------------------------------------------\u001b[0m",
      "\u001b[0;31merror\u001b[0m                                     Traceback (most recent call last)",
      "\u001b[0;32m<ipython-input-5-76826c00af84>\u001b[0m in \u001b[0;36m<module>\u001b[0;34m()\u001b[0m\n\u001b[1;32m      8\u001b[0m \u001b[0mimg1\u001b[0m\u001b[0;34m=\u001b[0m\u001b[0mcv2\u001b[0m\u001b[0;34m.\u001b[0m\u001b[0mimread\u001b[0m\u001b[0;34m(\u001b[0m\u001b[0;34m\"/content/maze.png\"\u001b[0m\u001b[0;34m)\u001b[0m\u001b[0;34m\u001b[0m\u001b[0;34m\u001b[0m\u001b[0m\n\u001b[1;32m      9\u001b[0m \u001b[0;31m# available = np.array(np.where((img == [255, 255, 255]).all(axis = 2))).T\u001b[0m\u001b[0;34m\u001b[0m\u001b[0;34m\u001b[0m\u001b[0;34m\u001b[0m\u001b[0m\n\u001b[0;32m---> 10\u001b[0;31m \u001b[0mrrt_holon\u001b[0m\u001b[0;34m(\u001b[0m\u001b[0mimg1\u001b[0m\u001b[0;34m,\u001b[0m\u001b[0mt1\u001b[0m\u001b[0;34m,\u001b[0m\u001b[0mt2\u001b[0m\u001b[0;34m)\u001b[0m\u001b[0;34m\u001b[0m\u001b[0;34m\u001b[0m\u001b[0m\n\u001b[0m",
      "\u001b[0;32m<ipython-input-4-190a6abc8700>\u001b[0m in \u001b[0;36mrrt_holon\u001b[0;34m(img, t1, t2)\u001b[0m\n\u001b[1;32m      1\u001b[0m \u001b[0;32mdef\u001b[0m \u001b[0mrrt_holon\u001b[0m\u001b[0;34m(\u001b[0m\u001b[0mimg\u001b[0m\u001b[0;34m,\u001b[0m \u001b[0mt1\u001b[0m\u001b[0;34m,\u001b[0m \u001b[0mt2\u001b[0m\u001b[0;34m)\u001b[0m\u001b[0;34m:\u001b[0m\u001b[0;34m\u001b[0m\u001b[0;34m\u001b[0m\u001b[0m\n\u001b[1;32m      2\u001b[0m     \u001b[0mep\u001b[0m\u001b[0;34m=\u001b[0m\u001b[0;36m10\u001b[0m\u001b[0;34m\u001b[0m\u001b[0;34m\u001b[0m\u001b[0m\n\u001b[0;32m----> 3\u001b[0;31m     \u001b[0mconfig\u001b[0m\u001b[0;34m=\u001b[0m\u001b[0mconfigspace\u001b[0m\u001b[0;34m(\u001b[0m\u001b[0mimg\u001b[0m\u001b[0;34m,\u001b[0m\u001b[0;36m20\u001b[0m\u001b[0;34m)\u001b[0m \u001b[0;31m#updated obstacles\u001b[0m\u001b[0;34m\u001b[0m\u001b[0;34m\u001b[0m\u001b[0m\n\u001b[0m\u001b[1;32m      4\u001b[0m     \u001b[0;32mfor\u001b[0m \u001b[0mi\u001b[0m \u001b[0;32min\u001b[0m \u001b[0mrange\u001b[0m\u001b[0;34m(\u001b[0m\u001b[0;36m100\u001b[0m\u001b[0;34m)\u001b[0m\u001b[0;34m:\u001b[0m\u001b[0;34m\u001b[0m\u001b[0;34m\u001b[0m\u001b[0m\n\u001b[1;32m      5\u001b[0m         \u001b[0mavailable\u001b[0m \u001b[0;34m=\u001b[0m \u001b[0mnp\u001b[0m\u001b[0;34m.\u001b[0m\u001b[0marray\u001b[0m\u001b[0;34m(\u001b[0m\u001b[0mnp\u001b[0m\u001b[0;34m.\u001b[0m\u001b[0mwhere\u001b[0m\u001b[0;34m(\u001b[0m\u001b[0;34m(\u001b[0m\u001b[0mimg\u001b[0m \u001b[0;34m==\u001b[0m \u001b[0;34m[\u001b[0m\u001b[0;36m255\u001b[0m\u001b[0;34m,\u001b[0m \u001b[0;36m255\u001b[0m\u001b[0;34m,\u001b[0m \u001b[0;36m255\u001b[0m\u001b[0;34m]\u001b[0m\u001b[0;34m)\u001b[0m\u001b[0;34m.\u001b[0m\u001b[0mall\u001b[0m\u001b[0;34m(\u001b[0m\u001b[0maxis\u001b[0m \u001b[0;34m=\u001b[0m \u001b[0;36m2\u001b[0m\u001b[0;34m)\u001b[0m\u001b[0;34m)\u001b[0m\u001b[0;34m)\u001b[0m\u001b[0;34m.\u001b[0m\u001b[0mT\u001b[0m\u001b[0;34m\u001b[0m\u001b[0;34m\u001b[0m\u001b[0m\n",
      "\u001b[0;32m<ipython-input-3-594aa37e1baa>\u001b[0m in \u001b[0;36mconfigspace\u001b[0;34m(img, L)\u001b[0m\n\u001b[1;32m      7\u001b[0m     \u001b[0;31m# plt.imshow(struct_element.astype(np.uint8))\u001b[0m\u001b[0;34m\u001b[0m\u001b[0;34m\u001b[0m\u001b[0;34m\u001b[0m\u001b[0m\n\u001b[1;32m      8\u001b[0m     \u001b[0;31m# print(struct_element)\u001b[0m\u001b[0;34m\u001b[0m\u001b[0;34m\u001b[0m\u001b[0;34m\u001b[0m\u001b[0m\n\u001b[0;32m----> 9\u001b[0;31m     \u001b[0mclosing\u001b[0m \u001b[0;34m=\u001b[0m \u001b[0mcv2\u001b[0m\u001b[0;34m.\u001b[0m\u001b[0mmorphologyEx\u001b[0m\u001b[0;34m(\u001b[0m\u001b[0mimg\u001b[0m\u001b[0;34m,\u001b[0m \u001b[0mcv2\u001b[0m\u001b[0;34m.\u001b[0m\u001b[0mMORPH_OPEN\u001b[0m\u001b[0;34m,\u001b[0m \u001b[0mstruct_element\u001b[0m\u001b[0;34m)\u001b[0m\u001b[0;34m\u001b[0m\u001b[0;34m\u001b[0m\u001b[0m\n\u001b[0m\u001b[1;32m     10\u001b[0m     \u001b[0;32mreturn\u001b[0m \u001b[0mclosing\u001b[0m\u001b[0;34m\u001b[0m\u001b[0;34m\u001b[0m\u001b[0m\n\u001b[1;32m     11\u001b[0m \u001b[0;34m\u001b[0m\u001b[0m\n",
      "\u001b[0;31merror\u001b[0m: OpenCV(4.2.0) /io/opencv/modules/core/src/matrix.cpp:757: error: (-215:Assertion failed) dims <= 2 && step[0] > 0 in function 'locateROI'\n"
     ]
    }
   ],
   "source": [
    "t1 = [[20,20]]\n",
    "t2 = [[600,150]]\n",
    "t1 = np.asarray(t1)\n",
    "t2 = np.asarray(t2)\n",
    "img = 255*np.ones((200,200,3))\n",
    "img1 = cv2.imread(\"untitled.png\")\n",
    "cv2.line(img,(25,15),(25,175),(0,0,0),2)\n",
    "img1=cv2.imread(\"/content/maze.png\")\n",
    "# available = np.array(np.where((img == [255, 255, 255]).all(axis = 2))).T\n",
    "rrt_holon(img1,t1,t2)"
   ]
  },
  {
   "cell_type": "code",
   "execution_count": 13,
   "metadata": {
    "id": "WNJxrg7hVy9y"
   },
   "outputs": [],
   "source": [
    "def rrt_nonholon(img, t1, t2):\n",
    "    init_theta=0\n",
    "    del_t=1\n",
    "    for i in range(500):\n",
    "        available = np.array(np.where((img == [255, 255, 255]).all(axis = 2))).T\n",
    "        qRand = available[np.random.randint(0,len(available))]\n",
    "        calc = distance.cdist(t1,[qRand])\n",
    "        qNear = t1[np.argmin(calc)]\n",
    "\n",
    "        v, w = [-5, 5], [-math.pi/15, 0, math.pi/15]\n",
    "        controls = list(itertools.product(v, w))\n",
    "        max_dist = np.inf\n",
    "        theta = 0\n",
    "        qNew=[0,0]\n",
    "\n",
    "        for crtl in controls:\n",
    "            v1, w1 = crtl\n",
    "            temp = [qNear[0] + v1*del_t*math.cos(init_theta + w1*del_t) , qNear[1] + v1*del_t*math.sin(init_theta + w1*del_t)]\n",
    "            dist = np.linalg.norm(np.array(qRand)-np.array(temp))\n",
    "            if dist < max_dist:\n",
    "                qNew = temp\n",
    "                theta = (init_theta + w1*del_t)\n",
    "                max_dist = dist\n",
    "        init_theta=theta\n",
    "        qNew = np.asarray(qNew,dtype=np.int64)\n",
    "\n",
    "        imgcpy = img.copy()\n",
    "        prevobs = np.sum(np.all(imgcpy == (0,0,0), axis=2))\n",
    "        cv2.line(imgcpy,(int(qNear[0]),int(qNear[1])),(int(qNew[0]),int(qNew[1])),(0,0,255))\n",
    "\n",
    "        newobs = np.sum(np.all(imgcpy == (0,0,0), axis=2))\n",
    "        if prevobs == newobs:\n",
    "            cv2.line(img,(int(qNear[0]),int(qNear[1])),(int(qNew[0]),int(qNew[1])),(0,0,255))\n",
    "            t1 = np.vstack([t1,qNew])\n",
    "\n",
    "        plt.imshow(img.astype(np.uint8))\n",
    "        if np.min(distance.cdist(t1,t2)) < 10 : \n",
    "            break"
   ]
  },
  {
   "cell_type": "code",
   "execution_count": 14,
   "metadata": {
    "colab": {
     "base_uri": "https://localhost:8080/",
     "height": 269
    },
    "id": "cuFRQwCzWnt8",
    "outputId": "b2c3c086-edff-49fd-c090-1dc862c14fc6"
   },
   "outputs": [
    {
     "data": {
      "image/png": "[encoded data removed]",
      "text/plain": [
       "<Figure size 432x288 with 1 Axes>"
      ]
     },
     "metadata": {
      "needs_background": "light",
      "tags": []
     },
     "output_type": "display_data"
    }
   ],
   "source": [
    "t1 = [[20,20]]\n",
    "t2 = [[600,150]]\n",
    "t1 = np.asarray(t1)\n",
    "t2 = np.asarray(t2)\n",
    "img = 255*np.ones((200,200,3))\n",
    "#img1 = cv2.imread(\"untitled.png\")\n",
    "cv2.line(img,(25,15),(25,175),(0,0,0),2)\n",
    "# plt.imshow(img1)\n",
    "# available = np.array(np.where((img == [255, 255, 255]).all(axis = 2))).T\n",
    "rrt_nonholon(img,t1,t2)"
   ]
  }
 ],
 "metadata": {
  "colab": {
   "collapsed_sections": [],
   "name": "rrt.ipynb",
   "provenance": []
  },
  "kernelspec": {
   "display_name": "Python 3",
   "language": "python",
   "name": "python3"
  },
  "language_info": {
   "codemirror_mode": {
    "name": "ipython",
    "version": 3
   },
   "file_extension": ".py",
   "mimetype": "text/x-python",
   "name": "python",
   "nbconvert_exporter": "python",
   "pygments_lexer": "ipython3",
   "version": "3.6.9"
  }
 },
 "nbformat": 4,
 "nbformat_minor": 1
}
