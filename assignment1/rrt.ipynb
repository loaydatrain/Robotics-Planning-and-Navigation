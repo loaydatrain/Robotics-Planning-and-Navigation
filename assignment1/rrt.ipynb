{
 "cells": [
  {
   "cell_type": "code",
   "execution_count": 6,
   "metadata": {
    "id": "KbFcl-amVy9q"
   },
   "outputs": [],
   "source": [
    "import numpy as np\n",
    "import cv2\n",
    "# from google.colab.patches import cv2_imshow\n",
    "from scipy.spatial import distance\n",
    "import matplotlib.pyplot as plt\n",
    "ep=10\n",
    "import math\n",
    "import itertools"
   ]
  },
  {
   "cell_type": "code",
   "execution_count": 7,
   "metadata": {
    "colab": {
     "base_uri": "https://localhost:8080/",
     "height": 257
    },
    "id": "cp8ja8n5zqjH",
    "outputId": "bd46c0c4-586d-44e2-91c7-e8b8716abbdc"
   },
   "outputs": [
    {
     "data": {
      "text/plain": [
       "<matplotlib.image.AxesImage at 0x7fc988fe6dd8>"
      ]
     },
     "execution_count": 7,
     "metadata": {},
     "output_type": "execute_result"
    },
    {
     "data": {
      "image/png": "[encoded data removed]",
      "text/plain": [
       "<Figure size 432x288 with 1 Axes>"
      ]
     },
     "metadata": {},
     "output_type": "display_data"
    }
   ],
   "source": [
    "#assuming the robot is circular in shape\n",
    "def configspace(img,L):\n",
    "    circle=np.zeros([2*L,2*L,3],dtype=np.uint8)\n",
    "    circle=cv2.circle(circle,(L,L), L, (255,255,255), -1)\n",
    "    struct_element=cv2.cvtColor(circle, cv2.COLOR_BGR2GRAY)\n",
    "    struct_element[struct_element>0]=1\n",
    "    # plt.imshow(struct_element.astype(np.uint8))\n",
    "    # print(struct_element)\n",
    "    closing = cv2.morphologyEx(img, cv2.MORPH_OPEN, struct_element)\n",
    "    return closing\n",
    "\n",
    "img=cv2.imread(\"untitled.png\")\n",
    "# plt.imshow(img.astype(np.uint8))\n",
    "closed=configspace(img, 10)\n",
    "plt.imshow(closed.astype(np.uint8))\n"
   ]
  },
  {
   "cell_type": "code",
   "execution_count": 49,
   "metadata": {
    "id": "iMQRBwHAVy9x"
   },
   "outputs": [],
   "source": [
    "def rrt_holon(img, t1, t2):\n",
    "    ep=10\n",
    "    global gra\n",
    "    global vis\n",
    "#     gra = {(x,y) : [] for x in range(img.shape[0]) for y in range(img.shape[1])}\n",
    "    gra = {(x,y) : [] for x in range(img.shape[0]) for y in range(img.shape[1])}\n",
    "    vis = {(x,y) : 0 for x in range(img.shape[0]) for y in range(img.shape[1])}\n",
    "    config=img #updated obstacles\n",
    "    path = []\n",
    "    for i in range(400):\n",
    "        available = np.array(np.where((img == [255, 255, 255]).all(axis = 2))).T\n",
    "        qRand = available[np.random.randint(0,len(available))]\n",
    "        calc = distance.cdist(t1,[qRand])\n",
    "        qNear = t1[np.argmin(calc)]\n",
    "        u = qRand - qNear\n",
    "        if np.linalg.norm(u) == 0: continue\n",
    "        v = u / np.linalg.norm(u)\n",
    "        qNew = qNear + ep*v\n",
    "        qNew = np.asarray(qNew,dtype=np.int64) \n",
    "        imgcpy = config.copy()\n",
    "        prevobs = np.sum(np.all(imgcpy == (0,0,0), axis=2))\n",
    "        cv2.line(imgcpy,(int(qNear[0]),int(qNear[1])),(int(qNew[0]),int(qNew[1])),(0,0,255))\n",
    "#         newline = np.array(np.where((imgcpy == [0, 0, 255]).all(axis = 2))).T\n",
    "#         flg = 1\n",
    "        newobs = np.sum(np.all(imgcpy == (0,0,0), axis=2))\n",
    "        if prevobs == newobs:\n",
    "            cv2.line(config,(int(qNear[0]),int(qNear[1])),(int(qNew[0]),int(qNew[1])),(0,0,255))\n",
    "#             tem = gra[(qNear[0],qNear[1])]\n",
    "            path.append([qNear[0],qNear[1],qNew[0],qNew[1]])\n",
    "#             gra[(qNew[0],qNew[1])] = tem\n",
    "            t1 = np.vstack([t1,qNew])\n",
    "#             available = np.array(np.where((img == [255, 255, 255]).all(axis = 2))).T\n",
    "        plt.imshow(config.astype(np.uint8))\n",
    "        if np.min(distance.cdist(t1,t2)) < 10 : \n",
    "#             print(tem)\n",
    "            path.append([qNew[0],qNew[1],t2[0][0],t2[0][1]])\n",
    "            return path\n",
    "#             break\n",
    "        "
   ]
  },
  {
   "cell_type": "code",
   "execution_count": 50,
   "metadata": {},
   "outputs": [],
   "source": [
    "def rrt_holon_recur(img, t1, t2,cnt = 0):\n",
    "    gra = {(x,y) : [] for x in range(img.shape[0]) for y in range(img.shape[1])}\n",
    "    vis = {(x,y) : 0 for x in range(img.shape[0]) for y in range(img.shape[1])}\n",
    "    ep=10\n",
    "#     cnt += 1\n",
    "    if cnt == 1000 :\n",
    "        return False,[]\n",
    "    gra = {(x,y) : [] for x in range(img.shape[0]) for y in range(img.shape[1])}\n",
    "    config=img #updated obstacles\n",
    "    available = np.array(np.where((img == [255, 255, 255]).all(axis = 2))).T\n",
    "    qRand = available[np.random.randint(0,len(available))]\n",
    "    calc = distance.cdist(t1,[qRand])\n",
    "    qNear = t1[np.argmin(calc)]\n",
    "    u = qRand - qNear\n",
    "#     if np.linalg.norm(u) == 0: continue\n",
    "    v = u / np.linalg.norm(u)\n",
    "    qNew = qNear + ep*v\n",
    "    qNew = np.asarray(qNew,dtype=np.int64) \n",
    "    imgcpy = config.copy()\n",
    "    prevobs = np.sum(np.all(imgcpy == (0,0,0), axis=2))\n",
    "    cv2.line(imgcpy,(int(qNear[0]),int(qNear[1])),(int(qNew[0]),int(qNew[1])),(0,0,255))\n",
    "    newobs = np.sum(np.all(imgcpy == (0,0,0), axis=2))\n",
    "    if prevobs == newobs:\n",
    "        cv2.line(config,(int(qNear[0]),int(qNear[1])),(int(qNew[0]),int(qNew[1])),(0,0,255))\n",
    "        tem = gra[(qNear[0],qNear[1])]\n",
    "        tem.append([qNear[0],qNear[1],qNew[0],qNew[1]])\n",
    "        gra[(qNew[0],qNew[1])] = tem\n",
    "        t1 = np.vstack([t1,qNew])\n",
    "#         print(qNew)\n",
    "#             available = np.array(np.where((img == [255, 255, 255]).all(axis = 2))).T\n",
    "    plt.imshow(config.astype(np.uint8))\n",
    "    if np.min(distance.cdist(t1,t2)) < 10: \n",
    "#         print(\"tem\")\n",
    "        gra[(qNew[0],qNew[1])].append([qNew[0],qNew[1],t2[0][0],t2[0][1]])\n",
    "        return True,[[qNew[0],qNew[1],t2[0][0],t2[0][1]],[qNear[0],qNear[1],qNew[0],qNew[1]]]\n",
    "    tem,pat = rrt_holon_recur(config,t1,t2,cnt)\n",
    "    if tem == True:\n",
    "        pat.append([qNear[0],qNear[1],qNew[0],qNew[1]])\n",
    "        return True,pat\n",
    "    return False,pat\n",
    "#             break\n",
    "        "
   ]
  },
  {
   "cell_type": "code",
   "execution_count": 51,
   "metadata": {},
   "outputs": [],
   "source": [
    "def dfs(cur,des,path):\n",
    "    global gra\n",
    "    global vis\n",
    "    global opt\n",
    "    path.append(cur)\n",
    "    if cur == des:\n",
    "#         print(path)\n",
    "        opt = path.copy()\n",
    "        return path\n",
    "    vis[cur] = 1\n",
    "    if len(gra[cur]) > 0:\n",
    "        for pt in gra[cur]:\n",
    "            if vis[pt] == 0:\n",
    "                dfs(pt,des,path)       \n",
    "    path.pop()"
   ]
  },
  {
   "cell_type": "code",
   "execution_count": 55,
   "metadata": {
    "colab": {
     "base_uri": "https://localhost:8080/",
     "height": 240
    },
    "id": "98Wx5uDJVy9y",
    "outputId": "0fc81f1b-bff7-41ae-b129-53f0a4d9ff6b",
    "scrolled": false
   },
   "outputs": [
    {
     "name": "stdout",
     "output_type": "stream",
     "text": [
      "None\n"
     ]
    },
    {
     "data": {
      "text/plain": [
       "<matplotlib.image.AxesImage at 0x7fc982eb3588>"
      ]
     },
     "execution_count": 55,
     "metadata": {},
     "output_type": "execute_result"
    },
    {
     "data": {
      "image/png": "[encoded data removed]",
      "text/plain": [
       "<Figure size 432x288 with 1 Axes>"
      ]
     },
     "metadata": {},
     "output_type": "display_data"
    }
   ],
   "source": [
    "t1 = [[50,50]]\n",
    "t2 = [[600,150]]\n",
    "t1 = np.asarray(t1)\n",
    "t2 = np.asarray(t2)\n",
    "img = 255*np.ones((200,200,3))\n",
    "img = cv2.imread(\"untitled.png\")\n",
    "gra = {}\n",
    "vis = {}\n",
    "opt = []\n",
    "path = rrt_holon(img,t1,t2)\n",
    "print(path)\n",
    "plt.imshow(img)\n",
    "# for x1,y1,x2,y2 in path:\n",
    "# #     print(x1,y1,x2,y2)\n",
    "#     cv2.line(img,(x1,y1),(x2,y2),(255,0,0))\n",
    "#     gra[tuple([x1,y1])].append(tuple([x2,y2]))\n",
    "# # vis = np.zeros(img.shape)\n",
    "# # __ = []\n",
    "# asdf = []\n",
    "# # dfs(tuple(t1[0]),tuple(t2[0]),tem)\n",
    "# tem = dfs(tuple(t1[0]),tuple(t2[0]),asdf)\n",
    "# # print(__)\n",
    "# tem1 = opt\n",
    "# for i in range(len(tem1) - 1):\n",
    "#     x1 = tem1[i][0]\n",
    "#     y1 = tem1[i][1]\n",
    "#     x2 = tem1[i + 1][0]\n",
    "#     y2 = tem1[i + 1][1]\n",
    "#     cv2.line(img,(x1,y1),(x2,y2),(0,0,0))\n",
    "# plt.imshow(img)\n",
    "# print(t2[0][0],t2[0][1])"
   ]
  },
  {
   "cell_type": "code",
   "execution_count": 35,
   "metadata": {},
   "outputs": [
    {
     "name": "stdout",
     "output_type": "stream",
     "text": [
      "AxesImage(112.68,36;217.44x217.44)\n"
     ]
    }
   ],
   "source": [
    "# tem = [(20, 20), (28, 25), (35, 31), (34, 40), (43, 41), (52, 43), (59, 49), (59, 58), (60, 67), (54, 75), (61, 81), (67, 88), (70, 97), (79, 99), (88, 100), (96, 94), (100, 100)]\n",
    "print(__)\n",
    "\n",
    "# plt.imshow(img)\n",
    "#     gra[tuple([x1,y1])].append(tuple([x2,y2]))"
   ]
  },
  {
   "cell_type": "code",
   "execution_count": 5,
   "metadata": {
    "id": "WNJxrg7hVy9y"
   },
   "outputs": [],
   "source": [
    "def rrt_nonholon(img, t1, t2):\n",
    "    init_theta=0\n",
    "    del_t=1\n",
    "    for i in range(500):\n",
    "        available = np.array(np.where((img == [255, 255, 255]).all(axis = 2))).T\n",
    "        qRand = available[np.random.randint(0,len(available))]\n",
    "        calc = distance.cdist(t1,[qRand])\n",
    "        qNear = t1[np.argmin(calc)]\n",
    "\n",
    "        v, w = [-5, 5], [-math.pi/30, 0, math.pi/30]\n",
    "        controls = list(itertools.product(v, w))\n",
    "        max_dist = np.inf\n",
    "        theta = 0\n",
    "        qNew=[0,0]\n",
    "\n",
    "        for crtl in controls:\n",
    "            v1, w1 = crtl\n",
    "            temp = [qNear[0] + v1*del_t*math.cos(init_theta + w1*del_t) , qNear[1] + v1*del_t*math.sin(init_theta + w1*del_t)]\n",
    "            dist = np.linalg.norm(np.array(qRand)-np.array(temp))\n",
    "            if dist < max_dist:\n",
    "                qNew = temp\n",
    "                theta = (init_theta + w1*del_t)\n",
    "                max_dist = dist\n",
    "        init_theta=theta\n",
    "        qNew = np.asarray(qNew,dtype=np.int64)\n",
    "\n",
    "        imgcpy = img.copy()\n",
    "        prevobs = np.sum(np.all(imgcpy == (0,0,0), axis=2))\n",
    "        cv2.line(imgcpy,(int(qNear[0]),int(qNear[1])),(int(qNew[0]),int(qNew[1])),(0,0,255))\n",
    "\n",
    "        newobs = np.sum(np.all(imgcpy == (0,0,0), axis=2))\n",
    "        if prevobs == newobs:\n",
    "            cv2.line(img,(int(qNear[0]),int(qNear[1])),(int(qNew[0]),int(qNew[1])),(0,0,255))\n",
    "            t1 = np.vstack([t1,qNew])\n",
    "#         plt.figure()\n",
    "        plt.imshow(img.astype(np.uint8))\n",
    "        if np.min(distance.cdist(t1,t2)) < 10 : \n",
    "            break"
   ]
  },
  {
   "cell_type": "code",
   "execution_count": 7,
   "metadata": {
    "colab": {
     "base_uri": "https://localhost:8080/",
     "height": 269
    },
    "id": "cuFRQwCzWnt8",
    "outputId": "b2c3c086-edff-49fd-c090-1dc862c14fc6"
   },
   "outputs": [
    {
     "data": {
      "image/png": "[encoded data removed]",
      "text/plain": [
       "<Figure size 432x288 with 1 Axes>"
      ]
     },
     "metadata": {},
     "output_type": "display_data"
    }
   ],
   "source": [
    "t1 = [[20,20]]\n",
    "t2 = [[600,150]]\n",
    "t1 = np.asarray(t1)\n",
    "t2 = np.asarray(t2)\n",
    "img = 255*np.ones((200,200,3))\n",
    "img1 = cv2.imread(\"untitled.png\")\n",
    "cv2.line(img,(25,15),(25,175),(0,0,0),2)\n",
    "# plt.imshow(img1)\n",
    "# available = np.array(np.where((img == [255, 255, 255]).all(axis = 2))).T\n",
    "rrt_nonholon(img1,t1,t2)"
   ]
  }
 ],
 "metadata": {
  "colab": {
   "collapsed_sections": [],
   "name": "rrt.ipynb",
   "provenance": []
  },
  "kernelspec": {
   "display_name": "Python 3",
   "language": "python",
   "name": "python3"
  },
  "language_info": {
   "codemirror_mode": {
    "name": "ipython",
    "version": 3
   },
   "file_extension": ".py",
   "mimetype": "text/x-python",
   "name": "python",
   "nbconvert_exporter": "python",
   "pygments_lexer": "ipython3",
   "version": "3.6.9"
  }
 },
 "nbformat": 4,
 "nbformat_minor": 1
}
