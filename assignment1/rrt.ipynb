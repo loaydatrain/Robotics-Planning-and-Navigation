{
 "cells": [
  {
   "cell_type": "code",
   "execution_count": 1,
   "metadata": {
    "id": "KbFcl-amVy9q"
   },
   "outputs": [],
   "source": [
    "import numpy as np\n",
    "import cv2\n",
    "# from google.colab.patches import cv2_imshow\n",
    "from scipy.spatial import distance\n",
    "import matplotlib.pyplot as plt\n",
    "ep=10\n",
    "import math\n",
    "import itertools"
   ]
  },
  {
   "cell_type": "code",
   "execution_count": 3,
   "metadata": {
    "colab": {
     "base_uri": "https://localhost:8080/",
     "height": 257
    },
    "id": "cp8ja8n5zqjH",
    "outputId": "bd46c0c4-586d-44e2-91c7-e8b8716abbdc"
   },
   "outputs": [
    {
     "data": {
      "text/plain": [
       "<matplotlib.image.AxesImage at 0x7f3764fdcc18>"
      ]
     },
     "execution_count": 3,
     "metadata": {},
     "output_type": "execute_result"
    },
    {
     "data": {
      "image/png": "[encoded data removed]",
      "text/plain": [
       "<Figure size 432x288 with 1 Axes>"
      ]
     },
     "metadata": {},
     "output_type": "display_data"
    }
   ],
   "source": [
    "#assuming the robot is circular in shape\n",
    "def configspace(img,L):\n",
    "    circle=np.zeros([2*L,2*L,3],dtype=np.uint8)\n",
    "    circle=cv2.circle(circle,(L,L), L, (255,255,255), -1)\n",
    "    struct_element=cv2.cvtColor(circle, cv2.COLOR_BGR2GRAY)\n",
    "    struct_element[struct_element>0]=1\n",
    "    # plt.imshow(struct_element.astype(np.uint8))\n",
    "    # print(struct_element)\n",
    "    closing = cv2.morphologyEx(img, cv2.MORPH_OPEN, struct_element)\n",
    "    return closing\n",
    "\n",
    "img=cv2.imread(\"untitled.png\")\n",
    "# plt.imshow(img.astype(np.uint8))\n",
    "closed=configspace(img, 10)\n",
    "plt.imshow(closed.astype(np.uint8))\n"
   ]
  },
  {
   "cell_type": "code",
   "execution_count": 63,
   "metadata": {
    "id": "iMQRBwHAVy9x"
   },
   "outputs": [],
   "source": [
    "def rrt_holon(img, t1, t2):\n",
    "    ep=10\n",
    "    gra = {(x,y) : [] for x in range(img.shape[0]) for y in range(img.shape[1])}\n",
    "    config=configspace(img,10) #updated obstacles\n",
    "    for i in range(100):\n",
    "        available = np.array(np.where((img == [255, 255, 255]).all(axis = 2))).T\n",
    "        qRand = available[np.random.randint(0,len(available))]\n",
    "#         qRand = [100,20]\n",
    "#         t1t = t1.copy()\n",
    "#         t1t -= qRand\n",
    "#         t1t = t1t ** 2\n",
    "#         tsum = []\n",
    "#         for x,y in t1t:\n",
    "#             tsum.append(x + y)\n",
    "#         tsum = np.asarray(tsum)\n",
    "        calc = distance.cdist(t1,[qRand])\n",
    "        qNear = t1[np.argmin(calc)]\n",
    "        u = qRand - qNear\n",
    "        if np.linalg.norm(u) == 0: continue\n",
    "        v = u / np.linalg.norm(u)\n",
    "        qNew = qNear + ep*v\n",
    "        qNew = np.asarray(qNew,dtype=np.int64) \n",
    "        imgcpy = config.copy()\n",
    "        prevobs = np.sum(np.all(imgcpy == (0,0,0), axis=2))\n",
    "        cv2.line(imgcpy,(int(qNear[0]),int(qNear[1])),(int(qNew[0]),int(qNew[1])),(0,0,255))\n",
    "#         newline = np.array(np.where((imgcpy == [0, 0, 255]).all(axis = 2))).T\n",
    "#         flg = 1\n",
    "        newobs = np.sum(np.all(imgcpy == (0,0,0), axis=2))\n",
    "        if prevobs == newobs:\n",
    "            cv2.line(config,(int(qNear[0]),int(qNear[1])),(int(qNew[0]),int(qNew[1])),(0,0,255))\n",
    "            tem = gra[(qNear[0],qNear[1])]\n",
    "            tem.append([qNear[0],qNear[1],qNew[0],qNew[1]])\n",
    "            gra[(qNew[0],qNew[1])] = tem\n",
    "            t1 = np.vstack([t1,qNew])\n",
    "#             available = np.array(np.where((img == [255, 255, 255]).all(axis = 2))).T\n",
    "        plt.imshow(config.astype(np.uint8))\n",
    "        if np.min(distance.cdist(t1,t2)) < 10 : \n",
    "#             print(tem)\n",
    "            gra[(qNew[0],qNew[1])].append([qNew[0],qNew[1],t2[0][0],t2[0][1]])\n",
    "            return gra[(qNew[0],qNew[1])]\n",
    "#             break\n",
    "        "
   ]
  },
  {
   "cell_type": "code",
   "execution_count": 84,
   "metadata": {},
   "outputs": [],
   "source": [
    "def rrt_holon_recur(img, t1, t2,cnt = 0):\n",
    "    ep=10\n",
    "    cnt += 1\n",
    "    if cnt == -1 :\n",
    "        return False,[]\n",
    "    gra = {(x,y) : [] for x in range(img.shape[0]) for y in range(img.shape[1])}\n",
    "    config=img #updated obstacles\n",
    "    available = np.array(np.where((img == [255, 255, 255]).all(axis = 2))).T\n",
    "    qRand = available[np.random.randint(0,len(available))]\n",
    "    calc = distance.cdist(t1,[qRand])\n",
    "    qNear = t1[np.argmin(calc)]\n",
    "    u = qRand - qNear\n",
    "#     if np.linalg.norm(u) == 0: continue\n",
    "    v = u / np.linalg.norm(u)\n",
    "    qNew = qNear + ep*v\n",
    "    qNew = np.asarray(qNew,dtype=np.int64) \n",
    "    imgcpy = config.copy()\n",
    "    prevobs = np.sum(np.all(imgcpy == (0,0,0), axis=2))\n",
    "    cv2.line(imgcpy,(int(qNear[0]),int(qNear[1])),(int(qNew[0]),int(qNew[1])),(0,0,255))\n",
    "#         newline = np.array(np.where((imgcpy == [0, 0, 255]).all(axis = 2))).T\n",
    "#         flg = 1\n",
    "    newobs = np.sum(np.all(imgcpy == (0,0,0), axis=2))\n",
    "    if prevobs == newobs:\n",
    "        cv2.line(config,(int(qNear[0]),int(qNear[1])),(int(qNew[0]),int(qNew[1])),(0,0,255))\n",
    "        tem = gra[(qNear[0],qNear[1])]\n",
    "        tem.append([qNear[0],qNear[1],qNew[0],qNew[1]])\n",
    "        gra[(qNew[0],qNew[1])] = tem\n",
    "        t1 = np.vstack([t1,qNew])\n",
    "        print(qNew)\n",
    "#             available = np.array(np.where((img == [255, 255, 255]).all(axis = 2))).T\n",
    "    plt.imshow(config.astype(np.uint8))\n",
    "    if np.min(distance.cdist([qNew],t2)) < 10: \n",
    "#             print(tem)\n",
    "        gra[(qNew[0],qNew[1])].append([qNew[0],qNew[1],t2[0][0],t2[0][1]])\n",
    "        return True,[[qNew[0],qNew[1],t2[0][0],t2[0][1]],[qNear[0],qNear[1],qNew[0],qNew[1]]]\n",
    "    tem,pat = rrt_holon_recur(config,t1,t2 , cnt)\n",
    "    if tem == True:\n",
    "        pat.append([qNear[0],qNear[1],qNew[0],qNew[1]])\n",
    "        return True,pat\n",
    "    return False,[]\n",
    "#             break\n",
    "        "
   ]
  },
  {
   "cell_type": "code",
   "execution_count": 85,
   "metadata": {
    "colab": {
     "base_uri": "https://localhost:8080/",
     "height": 240
    },
    "id": "98Wx5uDJVy9y",
    "outputId": "0fc81f1b-bff7-41ae-b129-53f0a4d9ff6b",
    "scrolled": true
   },
   "outputs": [
    {
     "name": "stdout",
     "output_type": "stream",
     "text": [
      "[29 20]\n",
      "[38 20]\n",
      "[47 19]\n",
      "[20 29]\n",
      "[54 25]\n",
      "[52 34]\n",
      "[58 41]\n",
      "[64 48]\n",
      "[73 52]\n",
      "[43 39]\n",
      "[76 61]\n",
      "[84 65]\n",
      "[10 27]\n",
      "[94 65]\n",
      "[96 74]\n",
      "[102  59]\n",
      "[104  79]\n",
      "[69 68]\n",
      "[59 68]\n",
      "[110  86]\n",
      "[68 77]\n"
     ]
    },
    {
     "name": "stderr",
     "output_type": "stream",
     "text": [
      "Clipping input data to the valid range for imshow with RGB data ([0..1] for floats or [0..255] for integers).\n"
     ]
    },
    {
     "name": "stdout",
     "output_type": "stream",
     "text": [
      "[116  93]\n",
      "[125  96]\n",
      "[33 41]\n",
      "[102  92]\n",
      "[[102, 92, 100, 100], [110, 86, 102, 92], [43, 39, 33, 41], [116, 93, 125, 96], [110, 86, 116, 93], [69, 68, 68, 77], [104, 79, 110, 86], [69, 68, 59, 68], [76, 61, 69, 68], [96, 74, 104, 79], [94, 65, 102, 59], [94, 65, 96, 74], [84, 65, 94, 65], [20, 29, 10, 27], [76, 61, 84, 65], [73, 52, 76, 61], [52, 34, 43, 39], [64, 48, 73, 52], [58, 41, 64, 48], [52, 34, 58, 41], [54, 25, 52, 34], [47, 19, 54, 25], [20, 20, 20, 29], [38, 20, 47, 19], [29, 20, 38, 20], [20, 20, 29, 20]]\n"
     ]
    },
    {
     "data": {
      "text/plain": [
       "<matplotlib.image.AxesImage at 0x7f375900b860>"
      ]
     },
     "execution_count": 85,
     "metadata": {},
     "output_type": "execute_result"
    },
    {
     "data": {
      "image/png": "[encoded data removed]",
      "text/plain": [
       "<Figure size 432x288 with 1 Axes>"
      ]
     },
     "metadata": {},
     "output_type": "display_data"
    }
   ],
   "source": [
    "t1 = [[20,20]]\n",
    "t2 = [[100,100]]\n",
    "t1 = np.asarray(t1)\n",
    "t2 = np.asarray(t2)\n",
    "img = 255*np.ones((200,200,3))\n",
    "# img1 = cv2.imread(\"untitled.png\")\n",
    "# cv2.line(img,(25,15),(25,175),(0,0,0),2)\n",
    "# img1=cv2.imread(\"/content/maze.png\")\n",
    "# available = np.array(np.where((img == [255, 255, 255]).all(axis = 2))).T\n",
    "tem,path = rrt_holon_recur(img,t1,t2)\n",
    "print(path)\n",
    "for x1,y1,x2,y2 in path:\n",
    "#     print(x1,y1,x2,y2)\n",
    "    cv2.line(img,(x1,y1),(x2,y2),(255,0,0))\n",
    "plt.imshow(img)\n",
    "# print(t2[0][0],t2[0][1])"
   ]
  },
  {
   "cell_type": "code",
   "execution_count": 24,
   "metadata": {},
   "outputs": [
    {
     "name": "stdout",
     "output_type": "stream",
     "text": [
      "{(0, 0): [], (0, 1): [], (0, 2): [], (0, 3): [], (0, 4): [], (0, 5): [], (0, 6): [], (0, 7): [], (0, 8): [], (0, 9): [], (1, 0): [], (1, 1): [], (1, 2): [], (1, 3): [], (1, 4): [], (1, 5): [], (1, 6): [], (1, 7): [], (1, 8): [], (1, 9): [], (2, 0): [], (2, 1): [], (2, 2): [], (2, 3): [], (2, 4): [], (2, 5): [], (2, 6): [], (2, 7): [], (2, 8): [], (2, 9): [], (3, 0): [], (3, 1): [], (3, 2): [], (3, 3): [], (3, 4): [], (3, 5): [], (3, 6): [], (3, 7): [], (3, 8): [], (3, 9): [], (4, 0): [], (4, 1): [], (4, 2): [], (4, 3): [], (4, 4): [], (4, 5): [], (4, 6): [], (4, 7): [], (4, 8): [], (4, 9): [], (5, 0): [], (5, 1): [], (5, 2): [], (5, 3): [], (5, 4): [], (5, 5): [], (5, 6): [], (5, 7): [], (5, 8): [], (5, 9): [], (6, 0): [], (6, 1): [], (6, 2): [], (6, 3): [], (6, 4): [], (6, 5): [], (6, 6): [], (6, 7): [], (6, 8): [], (6, 9): [], (7, 0): [], (7, 1): [], (7, 2): [], (7, 3): [], (7, 4): [], (7, 5): [], (7, 6): [], (7, 7): [], (7, 8): [], (7, 9): [], (8, 0): [], (8, 1): [], (8, 2): [], (8, 3): [], (8, 4): [], (8, 5): [], (8, 6): [], (8, 7): [], (8, 8): [], (8, 9): [], (9, 0): [], (9, 1): [], (9, 2): [], (9, 3): [], (9, 4): [], (9, 5): [], (9, 6): [], (9, 7): [], (9, 8): [], (9, 9): []}\n"
     ]
    }
   ],
   "source": [
    "print(gra)"
   ]
  },
  {
   "cell_type": "code",
   "execution_count": 21,
   "metadata": {
    "id": "WNJxrg7hVy9y"
   },
   "outputs": [],
   "source": [
    "def rrt_nonholon(img, t1, t2):\n",
    "    init_theta=0\n",
    "    del_t=1\n",
    "    for i in range(500):\n",
    "        available = np.array(np.where((img == [255, 255, 255]).all(axis = 2))).T\n",
    "        qRand = available[np.random.randint(0,len(available))]\n",
    "        calc = distance.cdist(t1,[qRand])\n",
    "        qNear = t1[np.argmin(calc)]\n",
    "\n",
    "        v, w = [-5, 5], [-math.pi/15, 0, math.pi/15]\n",
    "        controls = list(itertools.product(v, w))\n",
    "        max_dist = np.inf\n",
    "        theta = 0\n",
    "        qNew=[0,0]\n",
    "\n",
    "        for crtl in controls:\n",
    "            v1, w1 = crtl\n",
    "            temp = [qNear[0] + v1*del_t*math.cos(init_theta + w1*del_t) , qNear[1] + v1*del_t*math.sin(init_theta + w1*del_t)]\n",
    "            dist = np.linalg.norm(np.array(qRand)-np.array(temp))\n",
    "            if dist < max_dist:\n",
    "                qNew = temp\n",
    "                theta = (init_theta + w1*del_t)\n",
    "                max_dist = dist\n",
    "        init_theta=theta\n",
    "        qNew = np.asarray(qNew,dtype=np.int64)\n",
    "\n",
    "        imgcpy = img.copy()\n",
    "        prevobs = np.sum(np.all(imgcpy == (0,0,0), axis=2))\n",
    "        cv2.line(imgcpy,(int(qNear[0]),int(qNear[1])),(int(qNew[0]),int(qNew[1])),(0,0,255))\n",
    "\n",
    "        newobs = np.sum(np.all(imgcpy == (0,0,0), axis=2))\n",
    "        if prevobs == newobs:\n",
    "            cv2.line(img,(int(qNear[0]),int(qNear[1])),(int(qNew[0]),int(qNew[1])),(0,0,255))\n",
    "            t1 = np.vstack([t1,qNew])\n",
    "#         plt.figure()\n",
    "        plt.imshow(img.astype(np.uint8))\n",
    "        if np.min(distance.cdist(t1,t2)) < 10 : \n",
    "            break"
   ]
  },
  {
   "cell_type": "code",
   "execution_count": 22,
   "metadata": {
    "colab": {
     "base_uri": "https://localhost:8080/",
     "height": 269
    },
    "id": "cuFRQwCzWnt8",
    "outputId": "b2c3c086-edff-49fd-c090-1dc862c14fc6"
   },
   "outputs": [
    {
     "data": {
      "image/png": "[encoded data removed]",
      "text/plain": [
       "<Figure size 432x288 with 1 Axes>"
      ]
     },
     "metadata": {},
     "output_type": "display_data"
    }
   ],
   "source": [
    "t1 = [[20,20]]\n",
    "t2 = [[600,150]]\n",
    "t1 = np.asarray(t1)\n",
    "t2 = np.asarray(t2)\n",
    "img = 255*np.ones((200,200,3))\n",
    "#img1 = cv2.imread(\"untitled.png\")\n",
    "cv2.line(img,(25,15),(25,175),(0,0,0),2)\n",
    "# plt.imshow(img1)\n",
    "# available = np.array(np.where((img == [255, 255, 255]).all(axis = 2))).T\n",
    "rrt_nonholon(img1,t1,t2)"
   ]
  }
 ],
 "metadata": {
  "colab": {
   "collapsed_sections": [],
   "name": "rrt.ipynb",
   "provenance": []
  },
  "kernelspec": {
   "display_name": "Python 3",
   "language": "python",
   "name": "python3"
  },
  "language_info": {
   "codemirror_mode": {
    "name": "ipython",
    "version": 3
   },
   "file_extension": ".py",
   "mimetype": "text/x-python",
   "name": "python",
   "nbconvert_exporter": "python",
   "pygments_lexer": "ipython3",
   "version": "3.6.9"
  }
 },
 "nbformat": 4,
 "nbformat_minor": 1
}
