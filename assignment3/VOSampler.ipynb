{
 "cells": [
  {
   "cell_type": "code",
   "execution_count": 1,
   "metadata": {
    "id": "BfKnhTSaBdoa"
   },
   "outputs": [],
   "source": [
    "import numpy as np\n",
    "import matplotlib.pyplot as plt\n",
    "import cv2\n",
    "from scipy.spatial.distance import cdist"
   ]
  },
  {
   "cell_type": "code",
   "execution_count": 36,
   "metadata": {
    "id": "a4YMnjD2H3ch"
   },
   "outputs": [],
   "source": [
    "def get_maze(initPosn, goalPosn, radius, colors = [(255, 0, 0), (0, 0, 255)], maze_dim=(256, 256, 3)):\n",
    "    if len(initPosn) != len(goalPosn) or len(initPosn) != len(radius) or len(initPosn) != len(colors):\n",
    "        raise Exception(\"arrays are of incorrect sizes\")\n",
    "    maze = 255 * np.ones(shape = maze_dim).astype(np.uint8)\n",
    "    \n",
    "    for i in range(len(initPosn)):\n",
    "        cv2.circle(maze, tuple(goalPosn[i]), 3, colors[i], -1)\n",
    "        cv2.circle(maze, tuple(initPosn[i]), 3, colors[i], -1)\n",
    "\n",
    "        # cv2.circle(maze, tuple(initPosn[i]), radius[i], colors[i], 1)\n",
    "        \n",
    "    r, c, _ = maze.shape\n",
    "    maze = cv2.line(maze, (0,0), (0,r), (0,0,0), 2)\n",
    "    maze = cv2.line(maze, (0,0), (c,0), (0,0,0), 2)\n",
    "    maze = cv2.line(maze, (c,0), (c,r), (0,0,0), 3)\n",
    "    maze = cv2.line(maze, (c,r), (0,r), (0,0,0), 3)\n",
    "    return maze"
   ]
  },
  {
   "cell_type": "code",
   "execution_count": 3,
   "metadata": {
    "colab": {
     "base_uri": "https://localhost:8080/",
     "height": 248
    },
    "id": "iTYWLoSqBrO4",
    "outputId": "8b962190-e799-4c6b-eb6f-59361f9b35b9"
   },
   "outputs": [
    {
     "data": {
      "image/png": "[encoded data removed]",
      "text/plain": [
       "<Figure size 432x288 with 1 Axes>"
      ]
     },
     "metadata": {
      "needs_background": "light",
      "tags": []
     },
     "output_type": "display_data"
    }
   ],
   "source": [
    "curr_pos = [[40, 40], [160, 160]] # (x, y)\n",
    "radius = [10, 20]\n",
    "goal_pos = [[190, 190], [25, 25]] # (x, y)\n",
    "robots_color  = [(255, 0, 0), (0, 0, 255)]\n",
    "maze = get_maze(curr_pos,goal_pos,radius)\n",
    "plt.imshow(maze)\n",
    "plt.axis('off')\n",
    "plt.legend([\"Start\",\"End\", \"asdf\"])\n",
    "plt.show()"
   ]
  },
  {
   "cell_type": "code",
   "execution_count": 37,
   "metadata": {
    "id": "nahJ_QOcTnyQ"
   },
   "outputs": [],
   "source": [
    "class VOSampler:\n",
    "    def __init__(self,maze,curr_pos, goal_pos,radius, t=1, vmin=0.0, vmax=5.0, feasibility_radius=50):\n",
    "        self.curr_pos = curr_pos\n",
    "        self.goal_pos = goal_pos\n",
    "        self.radius = radius\n",
    "        self.t = t\n",
    "        self.vmin = vmin\n",
    "        self.vmax = vmax\n",
    "        self.feasibility_radius = feasibility_radius\n",
    "        self.maze = maze\n",
    "\n",
    "\n",
    "    def get_velocities(self,i):\n",
    "        x = np.arange(self.maze.shape[1])\n",
    "        y = np.arange(self.maze.shape[0])\n",
    "        dist = (x[np.newaxis,:]-self.curr_pos[i][0])**2 + (y[:,np.newaxis]-self.curr_pos[i][1])**2\n",
    "        mask = np.logical_and((dist <= self.vmax**2), (dist >= self.vmin**2))\n",
    "        idxs = np.where(mask)[::-1]\n",
    "        return self.get_coords(idxs)\n",
    "\n",
    "    def get_coords(self,idxs):\n",
    "        co1,co2 = idxs\n",
    "        res = []\n",
    "        for a1,a2 in zip(co1,co2):\n",
    "            res.append([a1,a2])\n",
    "        res = np.array(res)\n",
    "        return res\n",
    "\n",
    "    def check_collision(self,i,velocity):\n",
    "        for j in range(len(self.curr_pos)):\n",
    "            if i != j and np.linalg.norm(np.array(self.curr_pos[i]) - np.array(self.curr_pos[j])) < self.feasibility_radius:\n",
    "                x = np.arange(0, self.maze.shape[1])\n",
    "                y = np.arange(0, self.maze.shape[0])\n",
    "                mask = (x[np.newaxis,:]-self.curr_pos[j][0])**2 + (y[:,np.newaxis]-self.curr_pos[j][1])**2 < \\\n",
    "                        (self.radius[j] + self.radius[i])**2\n",
    "                idx1 = np.ravel_multi_index(velocity.T[::-1, :], self.maze.shape[:2])\n",
    "                idx2 = np.ravel_multi_index(self.get_coords(np.where(mask)).T, self.maze.shape[:2])\n",
    "                tem = []\n",
    "                for it1 in idx1:\n",
    "                    if it1 not in idx2:\n",
    "                        tem.append(it1)\n",
    "                tem = np.array(tem)\n",
    "                velocity = self.get_coords(np.unravel_index(tem,self.maze.shape[:2]))[:, ::-1]\n",
    "        return velocity\n",
    "            \n",
    "    def get_path(self,only_final = 0,max_iter=1000):\n",
    "        reached_robots = 0\n",
    "        completed_robots = []\n",
    "        prev_posn = self.curr_pos.copy()\n",
    "        tot_robots = len(self.curr_pos)\n",
    "        iter = 0\n",
    "        while reached_robots < tot_robots and iter < max_iter:\n",
    "            for i in range(len(self.curr_pos)):\n",
    "                if i in completed_robots: continue\n",
    "                x = np.arange(self.maze.shape[1])\n",
    "                y = np.arange(self.maze.shape[0])\n",
    "                allposs_velocity = self.get_velocities(i)\n",
    "                no_coll_velocity = self.check_collision(i,allposs_velocity)\n",
    "\n",
    "                all_dist = cdist(no_coll_velocity, np.array(self.goal_pos[i]).reshape(1, -1))\n",
    "                min_idx = all_dist.argmin(axis = 0)\n",
    "                self.curr_pos[i] = no_coll_velocity[min_idx].tolist()[0]\n",
    "\n",
    "                if np.linalg.norm(np.array(self.curr_pos[i]) - np.array(self.goal_pos[i])) < 5: \n",
    "                    reached_robots += 1\n",
    "                    completed_robots.append(i)\n",
    "            \n",
    "            maze_copy = self.maze.copy()\n",
    "            for j in range(len(self.curr_pos)):\n",
    "                cv2.circle(maze_copy, tuple(self.curr_pos[j]), self.radius[j], robots_color[j], -1)\n",
    "                if j == 0:\n",
    "                    cv2.line(self.maze, tuple(prev_posn[j]), tuple(self.curr_pos[j]), robots_color[j], 1)\n",
    "            prev_posn = self.curr_pos.copy()\n",
    "            if(only_final == 0):\n",
    "                plt.imshow(maze_copy)\n",
    "                plt.axis('off')\n",
    "                plt.show()\n",
    "            iter += 1\n",
    "        if only_final:\n",
    "            plt.imshow(maze_copy)\n",
    "    #         plt.axis('off')\n",
    "            plt.show()"
   ]
  },
  {
   "cell_type": "code",
   "execution_count": 39,
   "metadata": {
    "colab": {
     "base_uri": "https://localhost:8080/",
     "height": 269
    },
    "id": "8Xs8ikUP2lbF",
    "outputId": "c07cf3b8-0906-4087-956a-c40b333b583b"
   },
   "outputs": [
    {
     "data": {
      "image/png": "[encoded data removed]",
      "text/plain": [
       "<Figure size 432x288 with 1 Axes>"
      ]
     },
     "metadata": {
      "needs_background": "light",
      "tags": []
     },
     "output_type": "display_data"
    }
   ],
   "source": [
    "curr_pos = [ [40,280], [40, 40], [280, 280]]\n",
    "radius = [10, 20, 15]\n",
    "goal_pos = [ [280,40], [260, 260], [25, 25]]\n",
    "robots_color  = [(0,0,0), (128, 0, 0), (0, 0, 255)]\n",
    "maze =  get_maze(curr_pos, goal_pos,radius,robots_color,(300,300,3))\n",
    "obj = VOSampler(maze,curr_pos, goal_pos,radius)\n",
    "obj.get_path(1)"
   ]
  },
  {
   "cell_type": "code",
   "execution_count": 40,
   "metadata": {
    "colab": {
     "base_uri": "https://localhost:8080/",
     "height": 269
    },
    "id": "fRVY_9cP25pn",
    "outputId": "96b08204-88a1-4ad5-ba00-309daa7b744f"
   },
   "outputs": [
    {
     "data": {
      "image/png": "[encoded data removed]",
      "text/plain": [
       "<Figure size 432x288 with 1 Axes>"
      ]
     },
     "metadata": {
      "needs_background": "light",
      "tags": []
     },
     "output_type": "display_data"
    }
   ],
   "source": [
    "curr_pos = [ [40,280], [40, 40], [280, 280], [150, 20]]\n",
    "radius = [10, 20, 15, 10]\n",
    "goal_pos = [ [280,40], [260, 260], [25, 25], [150,270]]\n",
    "robots_color  =  [(0,0,0), (128, 0, 0), (0, 0, 255), (0,128,0)]\n",
    "maze =  get_maze(curr_pos, goal_pos,radius,robots_color,(300,300,3))\n",
    "obj = VOSampler(maze,curr_pos, goal_pos,radius)\n",
    "obj.get_path(1)"
   ]
  }
 ],
 "metadata": {
  "colab": {
   "collapsed_sections": [],
   "name": "hari_change(2).ipynb",
   "provenance": []
  },
  "kernelspec": {
   "display_name": "Python 3",
   "language": "python",
   "name": "python3"
  },
  "language_info": {
   "codemirror_mode": {
    "name": "ipython",
    "version": 3
   },
   "file_extension": ".py",
   "mimetype": "text/x-python",
   "name": "python",
   "nbconvert_exporter": "python",
   "pygments_lexer": "ipython3",
   "version": "3.8.6"
  }
 },
 "nbformat": 4,
 "nbformat_minor": 1
}
